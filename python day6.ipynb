{
 "cells": [
  {
   "cell_type": "code",
   "execution_count": 1,
   "metadata": {},
   "outputs": [
    {
     "name": "stdout",
     "output_type": "stream",
     "text": [
      "{'ajith': 21, 'sneha': 20, 'vinith': 19, 'varun': 17}\n"
     ]
    }
   ],
   "source": [
    "list_keys = ['ajith','sneha','vinith','varun']\n",
    "list_values = [21,20,19,17]\n",
    "result = {}\n",
    "for key in list_keys:\n",
    "    for values in list_values:\n",
    "        result[key] = values\n",
    "        list_values.remove(values)\n",
    "        break\n",
    "print(str(result))"
   ]
  },
  {
   "cell_type": "code",
   "execution_count": null,
   "metadata": {},
   "outputs": [],
   "source": []
  }
 ],
 "metadata": {
  "kernelspec": {
   "display_name": "Python 3",
   "language": "python",
   "name": "python3"
  },
  "language_info": {
   "codemirror_mode": {
    "name": "ipython",
    "version": 3
   },
   "file_extension": ".py",
   "mimetype": "text/x-python",
   "name": "python",
   "nbconvert_exporter": "python",
   "pygments_lexer": "ipython3",
   "version": "3.7.6"
  }
 },
 "nbformat": 4,
 "nbformat_minor": 4
}
